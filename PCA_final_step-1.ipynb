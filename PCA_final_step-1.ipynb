{
 "cells": [
  {
   "cell_type": "code",
   "execution_count": 1,
   "id": "21916826",
   "metadata": {},
   "outputs": [],
   "source": [
    "import pandas as pd"
   ]
  },
  {
   "cell_type": "code",
   "execution_count": 2,
   "id": "f878ba1f",
   "metadata": {},
   "outputs": [],
   "source": [
    "df=pd.read_csv(\"C:\\\\Users\\\\tanma\\\\Downloads\\\\Smart_India_hackathon\\\\tested.csv\")"
   ]
  },
  {
   "cell_type": "code",
   "execution_count": null,
   "id": "3251097e",
   "metadata": {},
   "outputs": [],
   "source": []
  },
  {
   "cell_type": "code",
   "execution_count": null,
   "id": "c08e7809",
   "metadata": {},
   "outputs": [],
   "source": []
  },
  {
   "cell_type": "code",
   "execution_count": null,
   "id": "28a77812",
   "metadata": {},
   "outputs": [],
   "source": []
  },
  {
   "cell_type": "code",
   "execution_count": null,
   "id": "9574a64a",
   "metadata": {},
   "outputs": [],
   "source": []
  },
  {
   "cell_type": "code",
   "execution_count": null,
   "id": "427cb8eb",
   "metadata": {},
   "outputs": [],
   "source": []
  },
  {
   "cell_type": "code",
   "execution_count": null,
   "id": "df6d7677",
   "metadata": {},
   "outputs": [],
   "source": []
  },
  {
   "cell_type": "code",
   "execution_count": null,
   "id": "2ebba748",
   "metadata": {},
   "outputs": [],
   "source": []
  },
  {
   "cell_type": "code",
   "execution_count": null,
   "id": "55c79d40",
   "metadata": {},
   "outputs": [],
   "source": []
  },
  {
   "cell_type": "code",
   "execution_count": 3,
   "id": "a9790fbb",
   "metadata": {},
   "outputs": [
    {
     "name": "stdout",
     "output_type": "stream",
     "text": [
      "<class 'pandas.core.frame.DataFrame'>\n",
      "RangeIndex: 26999 entries, 0 to 26998\n",
      "Data columns (total 31 columns):\n",
      " #   Column               Non-Null Count  Dtype  \n",
      "---  ------               --------------  -----  \n",
      " 0   Unnamed: 0           26999 non-null  int64  \n",
      " 1   created_at           26999 non-null  object \n",
      " 2   timestamp            26999 non-null  object \n",
      " 3   mmsi                 26999 non-null  int64  \n",
      " 4   msg_type             26999 non-null  int64  \n",
      " 5   latitude             26999 non-null  float64\n",
      " 6   longitude            26999 non-null  float64\n",
      " 7   speed                26999 non-null  float64\n",
      " 8   course               26999 non-null  float64\n",
      " 9   heading              26999 non-null  float64\n",
      " 10  rot                  26999 non-null  float64\n",
      " 11  imo                  0 non-null      float64\n",
      " 12  name                 0 non-null      float64\n",
      " 13  call_sign            0 non-null      float64\n",
      " 14  flag                 26999 non-null  object \n",
      " 15  draught              0 non-null      float64\n",
      " 16  ship_and_cargo_type  0 non-null      float64\n",
      " 17  length               0 non-null      float64\n",
      " 18  width                0 non-null      float64\n",
      " 19  eta                  0 non-null      float64\n",
      " 20  destination          0 non-null      float64\n",
      " 21  status               26999 non-null  float64\n",
      " 22  maneuver             26999 non-null  float64\n",
      " 23  accuracy             26999 non-null  float64\n",
      " 24  collection_type      26999 non-null  object \n",
      " 25  mmsi_label           26999 non-null  object \n",
      " 26  course_diff          26999 non-null  float64\n",
      " 27  rot_diff             26999 non-null  float64\n",
      " 28  speed_diff           26999 non-null  float64\n",
      " 29  lat_diff             26999 non-null  float64\n",
      " 30  long_diff            26999 non-null  float64\n",
      "dtypes: float64(23), int64(3), object(5)\n",
      "memory usage: 6.4+ MB\n"
     ]
    }
   ],
   "source": [
    "df.info()"
   ]
  },
  {
   "cell_type": "code",
   "execution_count": 4,
   "id": "e642aee9",
   "metadata": {},
   "outputs": [
    {
     "data": {
      "text/html": [
       "<div>\n",
       "<style scoped>\n",
       "    .dataframe tbody tr th:only-of-type {\n",
       "        vertical-align: middle;\n",
       "    }\n",
       "\n",
       "    .dataframe tbody tr th {\n",
       "        vertical-align: top;\n",
       "    }\n",
       "\n",
       "    .dataframe thead th {\n",
       "        text-align: right;\n",
       "    }\n",
       "</style>\n",
       "<table border=\"1\" class=\"dataframe\">\n",
       "  <thead>\n",
       "    <tr style=\"text-align: right;\">\n",
       "      <th></th>\n",
       "      <th>Unnamed: 0</th>\n",
       "      <th>created_at</th>\n",
       "      <th>timestamp</th>\n",
       "      <th>mmsi</th>\n",
       "      <th>msg_type</th>\n",
       "      <th>latitude</th>\n",
       "      <th>longitude</th>\n",
       "      <th>speed</th>\n",
       "      <th>course</th>\n",
       "      <th>heading</th>\n",
       "      <th>...</th>\n",
       "      <th>status</th>\n",
       "      <th>maneuver</th>\n",
       "      <th>accuracy</th>\n",
       "      <th>collection_type</th>\n",
       "      <th>mmsi_label</th>\n",
       "      <th>course_diff</th>\n",
       "      <th>rot_diff</th>\n",
       "      <th>speed_diff</th>\n",
       "      <th>lat_diff</th>\n",
       "      <th>long_diff</th>\n",
       "    </tr>\n",
       "  </thead>\n",
       "  <tbody>\n",
       "    <tr>\n",
       "      <th>0</th>\n",
       "      <td>0</td>\n",
       "      <td>2020-07-12 20:21:52.743665 UTC</td>\n",
       "      <td>2020-07-12 20:09:08 UTC</td>\n",
       "      <td>209171000</td>\n",
       "      <td>1</td>\n",
       "      <td>-20.476667</td>\n",
       "      <td>58.221173</td>\n",
       "      <td>8.0</td>\n",
       "      <td>55.0</td>\n",
       "      <td>58.0</td>\n",
       "      <td>...</td>\n",
       "      <td>0.0</td>\n",
       "      <td>0.0</td>\n",
       "      <td>0.0</td>\n",
       "      <td>satellite</td>\n",
       "      <td>mmsi-209171000</td>\n",
       "      <td>0.0</td>\n",
       "      <td>0.0</td>\n",
       "      <td>0.0</td>\n",
       "      <td>0.000000</td>\n",
       "      <td>0.000000</td>\n",
       "    </tr>\n",
       "    <tr>\n",
       "      <th>1</th>\n",
       "      <td>1</td>\n",
       "      <td>2020-07-12 20:21:52.743665 UTC</td>\n",
       "      <td>2020-07-12 20:10:29 UTC</td>\n",
       "      <td>209171000</td>\n",
       "      <td>1</td>\n",
       "      <td>-20.474987</td>\n",
       "      <td>58.223813</td>\n",
       "      <td>8.0</td>\n",
       "      <td>57.0</td>\n",
       "      <td>59.0</td>\n",
       "      <td>...</td>\n",
       "      <td>0.0</td>\n",
       "      <td>0.0</td>\n",
       "      <td>0.0</td>\n",
       "      <td>satellite</td>\n",
       "      <td>mmsi-209171000</td>\n",
       "      <td>2.0</td>\n",
       "      <td>18.0</td>\n",
       "      <td>0.0</td>\n",
       "      <td>0.001680</td>\n",
       "      <td>0.002640</td>\n",
       "    </tr>\n",
       "    <tr>\n",
       "      <th>2</th>\n",
       "      <td>2</td>\n",
       "      <td>2020-07-12 20:21:52.743665 UTC</td>\n",
       "      <td>2020-07-12 20:11:18 UTC</td>\n",
       "      <td>209171000</td>\n",
       "      <td>1</td>\n",
       "      <td>-20.474000</td>\n",
       "      <td>58.225360</td>\n",
       "      <td>8.1</td>\n",
       "      <td>56.0</td>\n",
       "      <td>60.0</td>\n",
       "      <td>...</td>\n",
       "      <td>0.0</td>\n",
       "      <td>0.0</td>\n",
       "      <td>0.0</td>\n",
       "      <td>satellite</td>\n",
       "      <td>mmsi-209171000</td>\n",
       "      <td>-1.0</td>\n",
       "      <td>-4.0</td>\n",
       "      <td>0.1</td>\n",
       "      <td>0.000987</td>\n",
       "      <td>0.001547</td>\n",
       "    </tr>\n",
       "    <tr>\n",
       "      <th>3</th>\n",
       "      <td>3</td>\n",
       "      <td>2020-07-12 20:21:44.224067 UTC</td>\n",
       "      <td>2020-07-12 20:12:18 UTC</td>\n",
       "      <td>209171000</td>\n",
       "      <td>1</td>\n",
       "      <td>-20.472773</td>\n",
       "      <td>58.227360</td>\n",
       "      <td>8.0</td>\n",
       "      <td>57.0</td>\n",
       "      <td>62.0</td>\n",
       "      <td>...</td>\n",
       "      <td>0.0</td>\n",
       "      <td>0.0</td>\n",
       "      <td>0.0</td>\n",
       "      <td>satellite</td>\n",
       "      <td>mmsi-209171000</td>\n",
       "      <td>1.0</td>\n",
       "      <td>-5.0</td>\n",
       "      <td>-0.1</td>\n",
       "      <td>0.001227</td>\n",
       "      <td>0.002000</td>\n",
       "    </tr>\n",
       "    <tr>\n",
       "      <th>4</th>\n",
       "      <td>4</td>\n",
       "      <td>2020-07-12 20:37:36.549524 UTC</td>\n",
       "      <td>2020-07-12 20:14:39 UTC</td>\n",
       "      <td>209171000</td>\n",
       "      <td>1</td>\n",
       "      <td>-20.470133</td>\n",
       "      <td>58.232400</td>\n",
       "      <td>8.1</td>\n",
       "      <td>60.0</td>\n",
       "      <td>62.0</td>\n",
       "      <td>...</td>\n",
       "      <td>0.0</td>\n",
       "      <td>0.0</td>\n",
       "      <td>0.0</td>\n",
       "      <td>satellite</td>\n",
       "      <td>mmsi-209171000</td>\n",
       "      <td>3.0</td>\n",
       "      <td>0.0</td>\n",
       "      <td>0.1</td>\n",
       "      <td>0.002640</td>\n",
       "      <td>0.005040</td>\n",
       "    </tr>\n",
       "  </tbody>\n",
       "</table>\n",
       "<p>5 rows × 31 columns</p>\n",
       "</div>"
      ],
      "text/plain": [
       "   Unnamed: 0                      created_at                timestamp  \\\n",
       "0           0  2020-07-12 20:21:52.743665 UTC  2020-07-12 20:09:08 UTC   \n",
       "1           1  2020-07-12 20:21:52.743665 UTC  2020-07-12 20:10:29 UTC   \n",
       "2           2  2020-07-12 20:21:52.743665 UTC  2020-07-12 20:11:18 UTC   \n",
       "3           3  2020-07-12 20:21:44.224067 UTC  2020-07-12 20:12:18 UTC   \n",
       "4           4  2020-07-12 20:37:36.549524 UTC  2020-07-12 20:14:39 UTC   \n",
       "\n",
       "        mmsi  msg_type   latitude  longitude  speed  course  heading  ...  \\\n",
       "0  209171000         1 -20.476667  58.221173    8.0    55.0     58.0  ...   \n",
       "1  209171000         1 -20.474987  58.223813    8.0    57.0     59.0  ...   \n",
       "2  209171000         1 -20.474000  58.225360    8.1    56.0     60.0  ...   \n",
       "3  209171000         1 -20.472773  58.227360    8.0    57.0     62.0  ...   \n",
       "4  209171000         1 -20.470133  58.232400    8.1    60.0     62.0  ...   \n",
       "\n",
       "   status  maneuver  accuracy  collection_type      mmsi_label  course_diff  \\\n",
       "0     0.0       0.0       0.0        satellite  mmsi-209171000          0.0   \n",
       "1     0.0       0.0       0.0        satellite  mmsi-209171000          2.0   \n",
       "2     0.0       0.0       0.0        satellite  mmsi-209171000         -1.0   \n",
       "3     0.0       0.0       0.0        satellite  mmsi-209171000          1.0   \n",
       "4     0.0       0.0       0.0        satellite  mmsi-209171000          3.0   \n",
       "\n",
       "   rot_diff  speed_diff  lat_diff  long_diff  \n",
       "0       0.0         0.0  0.000000   0.000000  \n",
       "1      18.0         0.0  0.001680   0.002640  \n",
       "2      -4.0         0.1  0.000987   0.001547  \n",
       "3      -5.0        -0.1  0.001227   0.002000  \n",
       "4       0.0         0.1  0.002640   0.005040  \n",
       "\n",
       "[5 rows x 31 columns]"
      ]
     },
     "execution_count": 4,
     "metadata": {},
     "output_type": "execute_result"
    }
   ],
   "source": [
    "df.head()"
   ]
  },
  {
   "cell_type": "code",
   "execution_count": 5,
   "id": "217663b7",
   "metadata": {},
   "outputs": [],
   "source": [
    "df.drop([\"Unnamed: 0\"],axis=1,inplace=True)"
   ]
  },
  {
   "cell_type": "code",
   "execution_count": 6,
   "id": "708911c4",
   "metadata": {},
   "outputs": [],
   "source": [
    "df['label'] = 0\n",
    "a=0\n",
    "for i in df['mmsi']:\n",
    "    \n",
    "    if(i==372711000):\n",
    "        df.iloc[a,30]=1\n",
    "    a=a+1"
   ]
  },
  {
   "cell_type": "code",
   "execution_count": 7,
   "id": "82023210",
   "metadata": {},
   "outputs": [],
   "source": [
    "float_column=['speed','course','rot','label']\n",
    "df=df[float_column]"
   ]
  },
  {
   "cell_type": "code",
   "execution_count": 8,
   "id": "774970a9",
   "metadata": {},
   "outputs": [],
   "source": [
    "from sklearn.preprocessing import  StandardScaler, MinMaxScaler\n",
    "from sklearn.model_selection import train_test_split"
   ]
  },
  {
   "cell_type": "code",
   "execution_count": 9,
   "id": "3f840d45",
   "metadata": {},
   "outputs": [
    {
     "data": {
      "text/plain": [
       "0    25918\n",
       "1     1081\n",
       "Name: label, dtype: int64"
      ]
     },
     "execution_count": 9,
     "metadata": {},
     "output_type": "execute_result"
    }
   ],
   "source": [
    "df.label.value_counts()"
   ]
  },
  {
   "cell_type": "code",
   "execution_count": 10,
   "id": "789da722",
   "metadata": {},
   "outputs": [],
   "source": [
    "za=6"
   ]
  },
  {
   "cell_type": "code",
   "execution_count": 11,
   "id": "67c0c3bb",
   "metadata": {},
   "outputs": [],
   "source": [
    "RANDOM_SEED = 101\n",
    "\n",
    "X_train, X_test = train_test_split(df, test_size=0.3, random_state = RANDOM_SEED)\n",
    "\n",
    "\n",
    "\n"
   ]
  },
  {
   "cell_type": "code",
   "execution_count": 12,
   "id": "54e89cac",
   "metadata": {},
   "outputs": [
    {
     "data": {
      "text/html": [
       "<div>\n",
       "<style scoped>\n",
       "    .dataframe tbody tr th:only-of-type {\n",
       "        vertical-align: middle;\n",
       "    }\n",
       "\n",
       "    .dataframe tbody tr th {\n",
       "        vertical-align: top;\n",
       "    }\n",
       "\n",
       "    .dataframe thead th {\n",
       "        text-align: right;\n",
       "    }\n",
       "</style>\n",
       "<table border=\"1\" class=\"dataframe\">\n",
       "  <thead>\n",
       "    <tr style=\"text-align: right;\">\n",
       "      <th></th>\n",
       "      <th>speed</th>\n",
       "      <th>course</th>\n",
       "      <th>rot</th>\n",
       "      <th>label</th>\n",
       "    </tr>\n",
       "  </thead>\n",
       "  <tbody>\n",
       "    <tr>\n",
       "      <th>22759</th>\n",
       "      <td>12.3</td>\n",
       "      <td>218.2</td>\n",
       "      <td>0.0</td>\n",
       "      <td>0</td>\n",
       "    </tr>\n",
       "    <tr>\n",
       "      <th>8854</th>\n",
       "      <td>0.0</td>\n",
       "      <td>304.0</td>\n",
       "      <td>0.0</td>\n",
       "      <td>1</td>\n",
       "    </tr>\n",
       "    <tr>\n",
       "      <th>10742</th>\n",
       "      <td>9.3</td>\n",
       "      <td>59.6</td>\n",
       "      <td>0.0</td>\n",
       "      <td>0</td>\n",
       "    </tr>\n",
       "    <tr>\n",
       "      <th>20309</th>\n",
       "      <td>14.2</td>\n",
       "      <td>60.1</td>\n",
       "      <td>0.0</td>\n",
       "      <td>0</td>\n",
       "    </tr>\n",
       "    <tr>\n",
       "      <th>11840</th>\n",
       "      <td>14.5</td>\n",
       "      <td>239.0</td>\n",
       "      <td>0.0</td>\n",
       "      <td>0</td>\n",
       "    </tr>\n",
       "    <tr>\n",
       "      <th>...</th>\n",
       "      <td>...</td>\n",
       "      <td>...</td>\n",
       "      <td>...</td>\n",
       "      <td>...</td>\n",
       "    </tr>\n",
       "    <tr>\n",
       "      <th>5695</th>\n",
       "      <td>6.8</td>\n",
       "      <td>62.8</td>\n",
       "      <td>7.0</td>\n",
       "      <td>0</td>\n",
       "    </tr>\n",
       "    <tr>\n",
       "      <th>8006</th>\n",
       "      <td>10.5</td>\n",
       "      <td>63.0</td>\n",
       "      <td>0.0</td>\n",
       "      <td>0</td>\n",
       "    </tr>\n",
       "    <tr>\n",
       "      <th>17745</th>\n",
       "      <td>12.2</td>\n",
       "      <td>233.7</td>\n",
       "      <td>-3.0</td>\n",
       "      <td>0</td>\n",
       "    </tr>\n",
       "    <tr>\n",
       "      <th>17931</th>\n",
       "      <td>10.3</td>\n",
       "      <td>60.7</td>\n",
       "      <td>6.0</td>\n",
       "      <td>0</td>\n",
       "    </tr>\n",
       "    <tr>\n",
       "      <th>13151</th>\n",
       "      <td>11.1</td>\n",
       "      <td>239.0</td>\n",
       "      <td>0.0</td>\n",
       "      <td>0</td>\n",
       "    </tr>\n",
       "  </tbody>\n",
       "</table>\n",
       "<p>18899 rows × 4 columns</p>\n",
       "</div>"
      ],
      "text/plain": [
       "       speed  course  rot  label\n",
       "22759   12.3   218.2  0.0      0\n",
       "8854     0.0   304.0  0.0      1\n",
       "10742    9.3    59.6  0.0      0\n",
       "20309   14.2    60.1  0.0      0\n",
       "11840   14.5   239.0  0.0      0\n",
       "...      ...     ...  ...    ...\n",
       "5695     6.8    62.8  7.0      0\n",
       "8006    10.5    63.0  0.0      0\n",
       "17745   12.2   233.7 -3.0      0\n",
       "17931   10.3    60.7  6.0      0\n",
       "13151   11.1   239.0  0.0      0\n",
       "\n",
       "[18899 rows x 4 columns]"
      ]
     },
     "execution_count": 12,
     "metadata": {},
     "output_type": "execute_result"
    }
   ],
   "source": [
    "X_train"
   ]
  },
  {
   "cell_type": "code",
   "execution_count": 13,
   "id": "3faf252f",
   "metadata": {},
   "outputs": [],
   "source": [
    "X_train=X_train.reset_index(drop=True)"
   ]
  },
  {
   "cell_type": "code",
   "execution_count": 14,
   "id": "d717d6a6",
   "metadata": {},
   "outputs": [
    {
     "data": {
      "text/plain": [
       "0    18166\n",
       "1      733\n",
       "Name: label, dtype: int64"
      ]
     },
     "execution_count": 14,
     "metadata": {},
     "output_type": "execute_result"
    }
   ],
   "source": [
    "X_train.label.value_counts()"
   ]
  },
  {
   "cell_type": "code",
   "execution_count": 15,
   "id": "c242efbb",
   "metadata": {},
   "outputs": [],
   "source": [
    "X_train1 = X_train[X_train['label'] == 1]\n",
    "X_train = X_train[X_train['label'] == 0]\n"
   ]
  },
  {
   "cell_type": "code",
   "execution_count": 16,
   "id": "7d4c6dd1",
   "metadata": {},
   "outputs": [
    {
     "name": "stderr",
     "output_type": "stream",
     "text": [
      "C:\\Users\\tanma\\AppData\\Local\\Temp\\ipykernel_8072\\3741126235.py:1: FutureWarning: The frame.append method is deprecated and will be removed from pandas in a future version. Use pandas.concat instead.\n",
      "  X_test=X_test.append(X_train1)\n"
     ]
    }
   ],
   "source": [
    "X_test=X_test.append(X_train1)"
   ]
  },
  {
   "cell_type": "code",
   "execution_count": 17,
   "id": "86851d3a",
   "metadata": {},
   "outputs": [],
   "source": [
    "y_train=X_train['label']"
   ]
  },
  {
   "cell_type": "code",
   "execution_count": 18,
   "id": "42c3d68b",
   "metadata": {},
   "outputs": [],
   "source": [
    "X_train = X_train.drop(['label'], axis=1)"
   ]
  },
  {
   "cell_type": "code",
   "execution_count": 19,
   "id": "e918c962",
   "metadata": {},
   "outputs": [],
   "source": [
    "X_test1=X_test\n",
    "RANDOM_SEED = 101\n",
    "\n",
    "X_valid, X_test= train_test_split(X_test1, test_size=0.8, random_state = RANDOM_SEED)"
   ]
  },
  {
   "cell_type": "code",
   "execution_count": 20,
   "id": "2745bb31",
   "metadata": {},
   "outputs": [],
   "source": [
    "X_valid=X_valid.reset_index(drop=True)"
   ]
  },
  {
   "cell_type": "code",
   "execution_count": 21,
   "id": "0d2b8afe",
   "metadata": {},
   "outputs": [],
   "source": [
    "X_test=X_test.reset_index(drop=True)"
   ]
  },
  {
   "cell_type": "code",
   "execution_count": 22,
   "id": "3a0a7322",
   "metadata": {},
   "outputs": [
    {
     "data": {
      "text/plain": [
       "0    1551\n",
       "1     215\n",
       "Name: label, dtype: int64"
      ]
     },
     "execution_count": 22,
     "metadata": {},
     "output_type": "execute_result"
    }
   ],
   "source": [
    "X_valid.label.value_counts()"
   ]
  },
  {
   "cell_type": "code",
   "execution_count": 23,
   "id": "3349ce86",
   "metadata": {},
   "outputs": [
    {
     "data": {
      "text/plain": [
       "0    6201\n",
       "1     866\n",
       "Name: label, dtype: int64"
      ]
     },
     "execution_count": 23,
     "metadata": {},
     "output_type": "execute_result"
    }
   ],
   "source": [
    "X_test.label.value_counts()"
   ]
  },
  {
   "cell_type": "code",
   "execution_count": 24,
   "id": "25cd06ba",
   "metadata": {},
   "outputs": [],
   "source": [
    "y_test  = X_test['label']\n",
    "X_test  = X_test.drop(['label'], axis=1)"
   ]
  },
  {
   "cell_type": "code",
   "execution_count": 25,
   "id": "a31e7c89",
   "metadata": {},
   "outputs": [],
   "source": [
    "y_valid  = X_valid['label']\n",
    "X_valid  = X_valid.drop(['label'], axis=1)"
   ]
  },
  {
   "cell_type": "code",
   "execution_count": 26,
   "id": "4a928308",
   "metadata": {},
   "outputs": [],
   "source": [
    "from pycaret.anomaly import *"
   ]
  },
  {
   "cell_type": "code",
   "execution_count": 27,
   "id": "1d8f72c6",
   "metadata": {},
   "outputs": [
    {
     "data": {
      "text/html": [
       "<div>\n",
       "<style scoped>\n",
       "    .dataframe tbody tr th:only-of-type {\n",
       "        vertical-align: middle;\n",
       "    }\n",
       "\n",
       "    .dataframe tbody tr th {\n",
       "        vertical-align: top;\n",
       "    }\n",
       "\n",
       "    .dataframe thead th {\n",
       "        text-align: right;\n",
       "    }\n",
       "</style>\n",
       "<table border=\"1\" class=\"dataframe\">\n",
       "  <thead>\n",
       "    <tr style=\"text-align: right;\">\n",
       "      <th></th>\n",
       "      <th>speed</th>\n",
       "      <th>course</th>\n",
       "      <th>rot</th>\n",
       "    </tr>\n",
       "  </thead>\n",
       "  <tbody>\n",
       "    <tr>\n",
       "      <th>0</th>\n",
       "      <td>12.3</td>\n",
       "      <td>218.2</td>\n",
       "      <td>0.0</td>\n",
       "    </tr>\n",
       "    <tr>\n",
       "      <th>2</th>\n",
       "      <td>9.3</td>\n",
       "      <td>59.6</td>\n",
       "      <td>0.0</td>\n",
       "    </tr>\n",
       "    <tr>\n",
       "      <th>3</th>\n",
       "      <td>14.2</td>\n",
       "      <td>60.1</td>\n",
       "      <td>0.0</td>\n",
       "    </tr>\n",
       "    <tr>\n",
       "      <th>4</th>\n",
       "      <td>14.5</td>\n",
       "      <td>239.0</td>\n",
       "      <td>0.0</td>\n",
       "    </tr>\n",
       "    <tr>\n",
       "      <th>5</th>\n",
       "      <td>10.3</td>\n",
       "      <td>235.5</td>\n",
       "      <td>0.0</td>\n",
       "    </tr>\n",
       "    <tr>\n",
       "      <th>...</th>\n",
       "      <td>...</td>\n",
       "      <td>...</td>\n",
       "      <td>...</td>\n",
       "    </tr>\n",
       "    <tr>\n",
       "      <th>18894</th>\n",
       "      <td>6.8</td>\n",
       "      <td>62.8</td>\n",
       "      <td>7.0</td>\n",
       "    </tr>\n",
       "    <tr>\n",
       "      <th>18895</th>\n",
       "      <td>10.5</td>\n",
       "      <td>63.0</td>\n",
       "      <td>0.0</td>\n",
       "    </tr>\n",
       "    <tr>\n",
       "      <th>18896</th>\n",
       "      <td>12.2</td>\n",
       "      <td>233.7</td>\n",
       "      <td>-3.0</td>\n",
       "    </tr>\n",
       "    <tr>\n",
       "      <th>18897</th>\n",
       "      <td>10.3</td>\n",
       "      <td>60.7</td>\n",
       "      <td>6.0</td>\n",
       "    </tr>\n",
       "    <tr>\n",
       "      <th>18898</th>\n",
       "      <td>11.1</td>\n",
       "      <td>239.0</td>\n",
       "      <td>0.0</td>\n",
       "    </tr>\n",
       "  </tbody>\n",
       "</table>\n",
       "<p>18166 rows × 3 columns</p>\n",
       "</div>"
      ],
      "text/plain": [
       "       speed  course  rot\n",
       "0       12.3   218.2  0.0\n",
       "2        9.3    59.6  0.0\n",
       "3       14.2    60.1  0.0\n",
       "4       14.5   239.0  0.0\n",
       "5       10.3   235.5  0.0\n",
       "...      ...     ...  ...\n",
       "18894    6.8    62.8  7.0\n",
       "18895   10.5    63.0  0.0\n",
       "18896   12.2   233.7 -3.0\n",
       "18897   10.3    60.7  6.0\n",
       "18898   11.1   239.0  0.0\n",
       "\n",
       "[18166 rows x 3 columns]"
      ]
     },
     "execution_count": 27,
     "metadata": {},
     "output_type": "execute_result"
    }
   ],
   "source": [
    "X_train"
   ]
  },
  {
   "cell_type": "code",
   "execution_count": 28,
   "id": "be2b5c22",
   "metadata": {},
   "outputs": [
    {
     "data": {
      "text/html": [
       "<style type=\"text/css\">\n",
       "</style>\n",
       "<table id=\"T_61b94\">\n",
       "  <thead>\n",
       "    <tr>\n",
       "      <th class=\"blank level0\" >&nbsp;</th>\n",
       "      <th id=\"T_61b94_level0_col0\" class=\"col_heading level0 col0\" >Description</th>\n",
       "      <th id=\"T_61b94_level0_col1\" class=\"col_heading level0 col1\" >Value</th>\n",
       "    </tr>\n",
       "  </thead>\n",
       "  <tbody>\n",
       "    <tr>\n",
       "      <th id=\"T_61b94_level0_row0\" class=\"row_heading level0 row0\" >0</th>\n",
       "      <td id=\"T_61b94_row0_col0\" class=\"data row0 col0\" >session_id</td>\n",
       "      <td id=\"T_61b94_row0_col1\" class=\"data row0 col1\" >869</td>\n",
       "    </tr>\n",
       "    <tr>\n",
       "      <th id=\"T_61b94_level0_row1\" class=\"row_heading level0 row1\" >1</th>\n",
       "      <td id=\"T_61b94_row1_col0\" class=\"data row1 col0\" >Original Data</td>\n",
       "      <td id=\"T_61b94_row1_col1\" class=\"data row1 col1\" >(18166, 3)</td>\n",
       "    </tr>\n",
       "    <tr>\n",
       "      <th id=\"T_61b94_level0_row2\" class=\"row_heading level0 row2\" >2</th>\n",
       "      <td id=\"T_61b94_row2_col0\" class=\"data row2 col0\" >Missing Values</td>\n",
       "      <td id=\"T_61b94_row2_col1\" class=\"data row2 col1\" >False</td>\n",
       "    </tr>\n",
       "    <tr>\n",
       "      <th id=\"T_61b94_level0_row3\" class=\"row_heading level0 row3\" >3</th>\n",
       "      <td id=\"T_61b94_row3_col0\" class=\"data row3 col0\" >Numeric Features</td>\n",
       "      <td id=\"T_61b94_row3_col1\" class=\"data row3 col1\" >3</td>\n",
       "    </tr>\n",
       "    <tr>\n",
       "      <th id=\"T_61b94_level0_row4\" class=\"row_heading level0 row4\" >4</th>\n",
       "      <td id=\"T_61b94_row4_col0\" class=\"data row4 col0\" >Categorical Features</td>\n",
       "      <td id=\"T_61b94_row4_col1\" class=\"data row4 col1\" >0</td>\n",
       "    </tr>\n",
       "    <tr>\n",
       "      <th id=\"T_61b94_level0_row5\" class=\"row_heading level0 row5\" >5</th>\n",
       "      <td id=\"T_61b94_row5_col0\" class=\"data row5 col0\" >Ordinal Features</td>\n",
       "      <td id=\"T_61b94_row5_col1\" class=\"data row5 col1\" >False</td>\n",
       "    </tr>\n",
       "    <tr>\n",
       "      <th id=\"T_61b94_level0_row6\" class=\"row_heading level0 row6\" >6</th>\n",
       "      <td id=\"T_61b94_row6_col0\" class=\"data row6 col0\" >High Cardinality Features</td>\n",
       "      <td id=\"T_61b94_row6_col1\" class=\"data row6 col1\" >False</td>\n",
       "    </tr>\n",
       "    <tr>\n",
       "      <th id=\"T_61b94_level0_row7\" class=\"row_heading level0 row7\" >7</th>\n",
       "      <td id=\"T_61b94_row7_col0\" class=\"data row7 col0\" >High Cardinality Method</td>\n",
       "      <td id=\"T_61b94_row7_col1\" class=\"data row7 col1\" >None</td>\n",
       "    </tr>\n",
       "    <tr>\n",
       "      <th id=\"T_61b94_level0_row8\" class=\"row_heading level0 row8\" >8</th>\n",
       "      <td id=\"T_61b94_row8_col0\" class=\"data row8 col0\" >Transformed Data</td>\n",
       "      <td id=\"T_61b94_row8_col1\" class=\"data row8 col1\" >(18166, 3)</td>\n",
       "    </tr>\n",
       "    <tr>\n",
       "      <th id=\"T_61b94_level0_row9\" class=\"row_heading level0 row9\" >9</th>\n",
       "      <td id=\"T_61b94_row9_col0\" class=\"data row9 col0\" >CPU Jobs</td>\n",
       "      <td id=\"T_61b94_row9_col1\" class=\"data row9 col1\" >-1</td>\n",
       "    </tr>\n",
       "    <tr>\n",
       "      <th id=\"T_61b94_level0_row10\" class=\"row_heading level0 row10\" >10</th>\n",
       "      <td id=\"T_61b94_row10_col0\" class=\"data row10 col0\" >Use GPU</td>\n",
       "      <td id=\"T_61b94_row10_col1\" class=\"data row10 col1\" >False</td>\n",
       "    </tr>\n",
       "    <tr>\n",
       "      <th id=\"T_61b94_level0_row11\" class=\"row_heading level0 row11\" >11</th>\n",
       "      <td id=\"T_61b94_row11_col0\" class=\"data row11 col0\" >Log Experiment</td>\n",
       "      <td id=\"T_61b94_row11_col1\" class=\"data row11 col1\" >False</td>\n",
       "    </tr>\n",
       "    <tr>\n",
       "      <th id=\"T_61b94_level0_row12\" class=\"row_heading level0 row12\" >12</th>\n",
       "      <td id=\"T_61b94_row12_col0\" class=\"data row12 col0\" >Experiment Name</td>\n",
       "      <td id=\"T_61b94_row12_col1\" class=\"data row12 col1\" >anomaly-default-name</td>\n",
       "    </tr>\n",
       "    <tr>\n",
       "      <th id=\"T_61b94_level0_row13\" class=\"row_heading level0 row13\" >13</th>\n",
       "      <td id=\"T_61b94_row13_col0\" class=\"data row13 col0\" >USI</td>\n",
       "      <td id=\"T_61b94_row13_col1\" class=\"data row13 col1\" >e3df</td>\n",
       "    </tr>\n",
       "    <tr>\n",
       "      <th id=\"T_61b94_level0_row14\" class=\"row_heading level0 row14\" >14</th>\n",
       "      <td id=\"T_61b94_row14_col0\" class=\"data row14 col0\" >Imputation Type</td>\n",
       "      <td id=\"T_61b94_row14_col1\" class=\"data row14 col1\" >simple</td>\n",
       "    </tr>\n",
       "    <tr>\n",
       "      <th id=\"T_61b94_level0_row15\" class=\"row_heading level0 row15\" >15</th>\n",
       "      <td id=\"T_61b94_row15_col0\" class=\"data row15 col0\" >Iterative Imputation Iteration</td>\n",
       "      <td id=\"T_61b94_row15_col1\" class=\"data row15 col1\" >None</td>\n",
       "    </tr>\n",
       "    <tr>\n",
       "      <th id=\"T_61b94_level0_row16\" class=\"row_heading level0 row16\" >16</th>\n",
       "      <td id=\"T_61b94_row16_col0\" class=\"data row16 col0\" >Numeric Imputer</td>\n",
       "      <td id=\"T_61b94_row16_col1\" class=\"data row16 col1\" >mean</td>\n",
       "    </tr>\n",
       "    <tr>\n",
       "      <th id=\"T_61b94_level0_row17\" class=\"row_heading level0 row17\" >17</th>\n",
       "      <td id=\"T_61b94_row17_col0\" class=\"data row17 col0\" >Iterative Imputation Numeric Model</td>\n",
       "      <td id=\"T_61b94_row17_col1\" class=\"data row17 col1\" >None</td>\n",
       "    </tr>\n",
       "    <tr>\n",
       "      <th id=\"T_61b94_level0_row18\" class=\"row_heading level0 row18\" >18</th>\n",
       "      <td id=\"T_61b94_row18_col0\" class=\"data row18 col0\" >Categorical Imputer</td>\n",
       "      <td id=\"T_61b94_row18_col1\" class=\"data row18 col1\" >mode</td>\n",
       "    </tr>\n",
       "    <tr>\n",
       "      <th id=\"T_61b94_level0_row19\" class=\"row_heading level0 row19\" >19</th>\n",
       "      <td id=\"T_61b94_row19_col0\" class=\"data row19 col0\" >Iterative Imputation Categorical Model</td>\n",
       "      <td id=\"T_61b94_row19_col1\" class=\"data row19 col1\" >None</td>\n",
       "    </tr>\n",
       "    <tr>\n",
       "      <th id=\"T_61b94_level0_row20\" class=\"row_heading level0 row20\" >20</th>\n",
       "      <td id=\"T_61b94_row20_col0\" class=\"data row20 col0\" >Unknown Categoricals Handling</td>\n",
       "      <td id=\"T_61b94_row20_col1\" class=\"data row20 col1\" >least_frequent</td>\n",
       "    </tr>\n",
       "    <tr>\n",
       "      <th id=\"T_61b94_level0_row21\" class=\"row_heading level0 row21\" >21</th>\n",
       "      <td id=\"T_61b94_row21_col0\" class=\"data row21 col0\" >Normalize</td>\n",
       "      <td id=\"T_61b94_row21_col1\" class=\"data row21 col1\" >False</td>\n",
       "    </tr>\n",
       "    <tr>\n",
       "      <th id=\"T_61b94_level0_row22\" class=\"row_heading level0 row22\" >22</th>\n",
       "      <td id=\"T_61b94_row22_col0\" class=\"data row22 col0\" >Normalize Method</td>\n",
       "      <td id=\"T_61b94_row22_col1\" class=\"data row22 col1\" >None</td>\n",
       "    </tr>\n",
       "    <tr>\n",
       "      <th id=\"T_61b94_level0_row23\" class=\"row_heading level0 row23\" >23</th>\n",
       "      <td id=\"T_61b94_row23_col0\" class=\"data row23 col0\" >Transformation</td>\n",
       "      <td id=\"T_61b94_row23_col1\" class=\"data row23 col1\" >False</td>\n",
       "    </tr>\n",
       "    <tr>\n",
       "      <th id=\"T_61b94_level0_row24\" class=\"row_heading level0 row24\" >24</th>\n",
       "      <td id=\"T_61b94_row24_col0\" class=\"data row24 col0\" >Transformation Method</td>\n",
       "      <td id=\"T_61b94_row24_col1\" class=\"data row24 col1\" >None</td>\n",
       "    </tr>\n",
       "    <tr>\n",
       "      <th id=\"T_61b94_level0_row25\" class=\"row_heading level0 row25\" >25</th>\n",
       "      <td id=\"T_61b94_row25_col0\" class=\"data row25 col0\" >PCA</td>\n",
       "      <td id=\"T_61b94_row25_col1\" class=\"data row25 col1\" >False</td>\n",
       "    </tr>\n",
       "    <tr>\n",
       "      <th id=\"T_61b94_level0_row26\" class=\"row_heading level0 row26\" >26</th>\n",
       "      <td id=\"T_61b94_row26_col0\" class=\"data row26 col0\" >PCA Method</td>\n",
       "      <td id=\"T_61b94_row26_col1\" class=\"data row26 col1\" >None</td>\n",
       "    </tr>\n",
       "    <tr>\n",
       "      <th id=\"T_61b94_level0_row27\" class=\"row_heading level0 row27\" >27</th>\n",
       "      <td id=\"T_61b94_row27_col0\" class=\"data row27 col0\" >PCA Components</td>\n",
       "      <td id=\"T_61b94_row27_col1\" class=\"data row27 col1\" >None</td>\n",
       "    </tr>\n",
       "    <tr>\n",
       "      <th id=\"T_61b94_level0_row28\" class=\"row_heading level0 row28\" >28</th>\n",
       "      <td id=\"T_61b94_row28_col0\" class=\"data row28 col0\" >Ignore Low Variance</td>\n",
       "      <td id=\"T_61b94_row28_col1\" class=\"data row28 col1\" >False</td>\n",
       "    </tr>\n",
       "    <tr>\n",
       "      <th id=\"T_61b94_level0_row29\" class=\"row_heading level0 row29\" >29</th>\n",
       "      <td id=\"T_61b94_row29_col0\" class=\"data row29 col0\" >Combine Rare Levels</td>\n",
       "      <td id=\"T_61b94_row29_col1\" class=\"data row29 col1\" >False</td>\n",
       "    </tr>\n",
       "    <tr>\n",
       "      <th id=\"T_61b94_level0_row30\" class=\"row_heading level0 row30\" >30</th>\n",
       "      <td id=\"T_61b94_row30_col0\" class=\"data row30 col0\" >Rare Level Threshold</td>\n",
       "      <td id=\"T_61b94_row30_col1\" class=\"data row30 col1\" >None</td>\n",
       "    </tr>\n",
       "    <tr>\n",
       "      <th id=\"T_61b94_level0_row31\" class=\"row_heading level0 row31\" >31</th>\n",
       "      <td id=\"T_61b94_row31_col0\" class=\"data row31 col0\" >Numeric Binning</td>\n",
       "      <td id=\"T_61b94_row31_col1\" class=\"data row31 col1\" >False</td>\n",
       "    </tr>\n",
       "    <tr>\n",
       "      <th id=\"T_61b94_level0_row32\" class=\"row_heading level0 row32\" >32</th>\n",
       "      <td id=\"T_61b94_row32_col0\" class=\"data row32 col0\" >Remove Outliers</td>\n",
       "      <td id=\"T_61b94_row32_col1\" class=\"data row32 col1\" >False</td>\n",
       "    </tr>\n",
       "    <tr>\n",
       "      <th id=\"T_61b94_level0_row33\" class=\"row_heading level0 row33\" >33</th>\n",
       "      <td id=\"T_61b94_row33_col0\" class=\"data row33 col0\" >Outliers Threshold</td>\n",
       "      <td id=\"T_61b94_row33_col1\" class=\"data row33 col1\" >None</td>\n",
       "    </tr>\n",
       "    <tr>\n",
       "      <th id=\"T_61b94_level0_row34\" class=\"row_heading level0 row34\" >34</th>\n",
       "      <td id=\"T_61b94_row34_col0\" class=\"data row34 col0\" >Remove Multicollinearity</td>\n",
       "      <td id=\"T_61b94_row34_col1\" class=\"data row34 col1\" >False</td>\n",
       "    </tr>\n",
       "    <tr>\n",
       "      <th id=\"T_61b94_level0_row35\" class=\"row_heading level0 row35\" >35</th>\n",
       "      <td id=\"T_61b94_row35_col0\" class=\"data row35 col0\" >Multicollinearity Threshold</td>\n",
       "      <td id=\"T_61b94_row35_col1\" class=\"data row35 col1\" >None</td>\n",
       "    </tr>\n",
       "    <tr>\n",
       "      <th id=\"T_61b94_level0_row36\" class=\"row_heading level0 row36\" >36</th>\n",
       "      <td id=\"T_61b94_row36_col0\" class=\"data row36 col0\" >Remove Perfect Collinearity</td>\n",
       "      <td id=\"T_61b94_row36_col1\" class=\"data row36 col1\" >False</td>\n",
       "    </tr>\n",
       "    <tr>\n",
       "      <th id=\"T_61b94_level0_row37\" class=\"row_heading level0 row37\" >37</th>\n",
       "      <td id=\"T_61b94_row37_col0\" class=\"data row37 col0\" >Clustering</td>\n",
       "      <td id=\"T_61b94_row37_col1\" class=\"data row37 col1\" >False</td>\n",
       "    </tr>\n",
       "    <tr>\n",
       "      <th id=\"T_61b94_level0_row38\" class=\"row_heading level0 row38\" >38</th>\n",
       "      <td id=\"T_61b94_row38_col0\" class=\"data row38 col0\" >Clustering Iteration</td>\n",
       "      <td id=\"T_61b94_row38_col1\" class=\"data row38 col1\" >None</td>\n",
       "    </tr>\n",
       "    <tr>\n",
       "      <th id=\"T_61b94_level0_row39\" class=\"row_heading level0 row39\" >39</th>\n",
       "      <td id=\"T_61b94_row39_col0\" class=\"data row39 col0\" >Polynomial Features</td>\n",
       "      <td id=\"T_61b94_row39_col1\" class=\"data row39 col1\" >False</td>\n",
       "    </tr>\n",
       "    <tr>\n",
       "      <th id=\"T_61b94_level0_row40\" class=\"row_heading level0 row40\" >40</th>\n",
       "      <td id=\"T_61b94_row40_col0\" class=\"data row40 col0\" >Polynomial Degree</td>\n",
       "      <td id=\"T_61b94_row40_col1\" class=\"data row40 col1\" >None</td>\n",
       "    </tr>\n",
       "    <tr>\n",
       "      <th id=\"T_61b94_level0_row41\" class=\"row_heading level0 row41\" >41</th>\n",
       "      <td id=\"T_61b94_row41_col0\" class=\"data row41 col0\" >Trignometry Features</td>\n",
       "      <td id=\"T_61b94_row41_col1\" class=\"data row41 col1\" >False</td>\n",
       "    </tr>\n",
       "    <tr>\n",
       "      <th id=\"T_61b94_level0_row42\" class=\"row_heading level0 row42\" >42</th>\n",
       "      <td id=\"T_61b94_row42_col0\" class=\"data row42 col0\" >Polynomial Threshold</td>\n",
       "      <td id=\"T_61b94_row42_col1\" class=\"data row42 col1\" >None</td>\n",
       "    </tr>\n",
       "    <tr>\n",
       "      <th id=\"T_61b94_level0_row43\" class=\"row_heading level0 row43\" >43</th>\n",
       "      <td id=\"T_61b94_row43_col0\" class=\"data row43 col0\" >Group Features</td>\n",
       "      <td id=\"T_61b94_row43_col1\" class=\"data row43 col1\" >False</td>\n",
       "    </tr>\n",
       "    <tr>\n",
       "      <th id=\"T_61b94_level0_row44\" class=\"row_heading level0 row44\" >44</th>\n",
       "      <td id=\"T_61b94_row44_col0\" class=\"data row44 col0\" >Feature Selection</td>\n",
       "      <td id=\"T_61b94_row44_col1\" class=\"data row44 col1\" >False</td>\n",
       "    </tr>\n",
       "    <tr>\n",
       "      <th id=\"T_61b94_level0_row45\" class=\"row_heading level0 row45\" >45</th>\n",
       "      <td id=\"T_61b94_row45_col0\" class=\"data row45 col0\" >Feature Selection Method</td>\n",
       "      <td id=\"T_61b94_row45_col1\" class=\"data row45 col1\" >classic</td>\n",
       "    </tr>\n",
       "    <tr>\n",
       "      <th id=\"T_61b94_level0_row46\" class=\"row_heading level0 row46\" >46</th>\n",
       "      <td id=\"T_61b94_row46_col0\" class=\"data row46 col0\" >Features Selection Threshold</td>\n",
       "      <td id=\"T_61b94_row46_col1\" class=\"data row46 col1\" >None</td>\n",
       "    </tr>\n",
       "    <tr>\n",
       "      <th id=\"T_61b94_level0_row47\" class=\"row_heading level0 row47\" >47</th>\n",
       "      <td id=\"T_61b94_row47_col0\" class=\"data row47 col0\" >Feature Interaction</td>\n",
       "      <td id=\"T_61b94_row47_col1\" class=\"data row47 col1\" >False</td>\n",
       "    </tr>\n",
       "    <tr>\n",
       "      <th id=\"T_61b94_level0_row48\" class=\"row_heading level0 row48\" >48</th>\n",
       "      <td id=\"T_61b94_row48_col0\" class=\"data row48 col0\" >Feature Ratio</td>\n",
       "      <td id=\"T_61b94_row48_col1\" class=\"data row48 col1\" >False</td>\n",
       "    </tr>\n",
       "    <tr>\n",
       "      <th id=\"T_61b94_level0_row49\" class=\"row_heading level0 row49\" >49</th>\n",
       "      <td id=\"T_61b94_row49_col0\" class=\"data row49 col0\" >Interaction Threshold</td>\n",
       "      <td id=\"T_61b94_row49_col1\" class=\"data row49 col1\" >None</td>\n",
       "    </tr>\n",
       "  </tbody>\n",
       "</table>\n"
      ],
      "text/plain": [
       "<pandas.io.formats.style.Styler at 0x21ed224d4f0>"
      ]
     },
     "metadata": {},
     "output_type": "display_data"
    }
   ],
   "source": [
    "exp_name = setup(data = X_train)"
   ]
  },
  {
   "cell_type": "code",
   "execution_count": 29,
   "id": "ff4f6117",
   "metadata": {},
   "outputs": [],
   "source": [
    "lof = create_model('pca')"
   ]
  },
  {
   "cell_type": "code",
   "execution_count": 30,
   "id": "e8693475",
   "metadata": {},
   "outputs": [],
   "source": [
    "# plot_model(lof, plot = 'tsne')"
   ]
  },
  {
   "cell_type": "code",
   "execution_count": 31,
   "id": "6d655df8",
   "metadata": {},
   "outputs": [],
   "source": [
    "X_train=predict_model(lof, data = X_train)"
   ]
  },
  {
   "cell_type": "code",
   "execution_count": null,
   "id": "b9e10d79",
   "metadata": {},
   "outputs": [],
   "source": [
    "\n"
   ]
  },
  {
   "cell_type": "code",
   "execution_count": 32,
   "id": "dac1183d",
   "metadata": {},
   "outputs": [],
   "source": [
    "X_train['label']=y_train"
   ]
  },
  {
   "cell_type": "code",
   "execution_count": 33,
   "id": "8ddca369",
   "metadata": {},
   "outputs": [],
   "source": [
    "X_test=predict_model(lof, data = X_test)"
   ]
  },
  {
   "cell_type": "code",
   "execution_count": 34,
   "id": "e63da368",
   "metadata": {},
   "outputs": [],
   "source": [
    "from sklearn.metrics import roc_auc_score"
   ]
  },
  {
   "cell_type": "code",
   "execution_count": 35,
   "id": "d82be686",
   "metadata": {},
   "outputs": [],
   "source": [
    "X_train['label']=y_train"
   ]
  },
  {
   "cell_type": "code",
   "execution_count": 60,
   "id": "58db11ca",
   "metadata": {},
   "outputs": [],
   "source": [
    "X_train['Anomal']=0\n",
    "c=0\n",
    "for i in X_train['Anomaly_Score']:\n",
    "        if(i>0):\n",
    "            X_train.iloc[c,za]=1\n",
    "        c=c+1"
   ]
  },
  {
   "cell_type": "code",
   "execution_count": 61,
   "id": "a4b8a67c",
   "metadata": {},
   "outputs": [],
   "source": [
    "# X_train"
   ]
  },
  {
   "cell_type": "code",
   "execution_count": 62,
   "id": "e89d1403",
   "metadata": {},
   "outputs": [
    {
     "data": {
      "text/html": [
       "<div>\n",
       "<style scoped>\n",
       "    .dataframe tbody tr th:only-of-type {\n",
       "        vertical-align: middle;\n",
       "    }\n",
       "\n",
       "    .dataframe tbody tr th {\n",
       "        vertical-align: top;\n",
       "    }\n",
       "\n",
       "    .dataframe thead th {\n",
       "        text-align: right;\n",
       "    }\n",
       "</style>\n",
       "<table border=\"1\" class=\"dataframe\">\n",
       "  <thead>\n",
       "    <tr style=\"text-align: right;\">\n",
       "      <th></th>\n",
       "      <th></th>\n",
       "      <th>number</th>\n",
       "    </tr>\n",
       "    <tr>\n",
       "      <th>Anomal</th>\n",
       "      <th>label</th>\n",
       "      <th></th>\n",
       "    </tr>\n",
       "  </thead>\n",
       "  <tbody>\n",
       "    <tr>\n",
       "      <th>0</th>\n",
       "      <th>0</th>\n",
       "      <td>18157</td>\n",
       "    </tr>\n",
       "    <tr>\n",
       "      <th>1</th>\n",
       "      <th>0</th>\n",
       "      <td>9</td>\n",
       "    </tr>\n",
       "  </tbody>\n",
       "</table>\n",
       "</div>"
      ],
      "text/plain": [
       "              number\n",
       "Anomal label        \n",
       "0      0       18157\n",
       "1      0           9"
      ]
     },
     "execution_count": 62,
     "metadata": {},
     "output_type": "execute_result"
    }
   ],
   "source": [
    "(X_train[['Anomal','label']]\n",
    " .groupby(['Anomal','label'])\n",
    " .size()\n",
    " .to_frame()\n",
    " .rename(columns={0:'number'}))"
   ]
  },
  {
   "cell_type": "code",
   "execution_count": 39,
   "id": "bfb601c5",
   "metadata": {},
   "outputs": [],
   "source": [
    "X_test['label']=y_test"
   ]
  },
  {
   "cell_type": "code",
   "execution_count": 40,
   "id": "243b1052",
   "metadata": {},
   "outputs": [
    {
     "data": {
      "text/html": [
       "<div>\n",
       "<style scoped>\n",
       "    .dataframe tbody tr th:only-of-type {\n",
       "        vertical-align: middle;\n",
       "    }\n",
       "\n",
       "    .dataframe tbody tr th {\n",
       "        vertical-align: top;\n",
       "    }\n",
       "\n",
       "    .dataframe thead th {\n",
       "        text-align: right;\n",
       "    }\n",
       "</style>\n",
       "<table border=\"1\" class=\"dataframe\">\n",
       "  <thead>\n",
       "    <tr style=\"text-align: right;\">\n",
       "      <th></th>\n",
       "      <th>speed</th>\n",
       "      <th>course</th>\n",
       "      <th>rot</th>\n",
       "      <th>Anomaly</th>\n",
       "      <th>Anomaly_Score</th>\n",
       "      <th>label</th>\n",
       "    </tr>\n",
       "  </thead>\n",
       "  <tbody>\n",
       "    <tr>\n",
       "      <th>0</th>\n",
       "      <td>9.9</td>\n",
       "      <td>54.0</td>\n",
       "      <td>5.0</td>\n",
       "      <td>0</td>\n",
       "      <td>14.147968</td>\n",
       "      <td>0</td>\n",
       "    </tr>\n",
       "    <tr>\n",
       "      <th>1</th>\n",
       "      <td>12.5</td>\n",
       "      <td>235.4</td>\n",
       "      <td>-6.0</td>\n",
       "      <td>0</td>\n",
       "      <td>13.533523</td>\n",
       "      <td>0</td>\n",
       "    </tr>\n",
       "    <tr>\n",
       "      <th>2</th>\n",
       "      <td>10.5</td>\n",
       "      <td>54.8</td>\n",
       "      <td>-4.0</td>\n",
       "      <td>0</td>\n",
       "      <td>12.884912</td>\n",
       "      <td>0</td>\n",
       "    </tr>\n",
       "    <tr>\n",
       "      <th>3</th>\n",
       "      <td>0.0</td>\n",
       "      <td>292.0</td>\n",
       "      <td>-128.0</td>\n",
       "      <td>1</td>\n",
       "      <td>60.776462</td>\n",
       "      <td>1</td>\n",
       "    </tr>\n",
       "    <tr>\n",
       "      <th>4</th>\n",
       "      <td>0.0</td>\n",
       "      <td>14.0</td>\n",
       "      <td>0.0</td>\n",
       "      <td>1</td>\n",
       "      <td>49.555648</td>\n",
       "      <td>1</td>\n",
       "    </tr>\n",
       "    <tr>\n",
       "      <th>...</th>\n",
       "      <td>...</td>\n",
       "      <td>...</td>\n",
       "      <td>...</td>\n",
       "      <td>...</td>\n",
       "      <td>...</td>\n",
       "      <td>...</td>\n",
       "    </tr>\n",
       "    <tr>\n",
       "      <th>7062</th>\n",
       "      <td>11.3</td>\n",
       "      <td>233.0</td>\n",
       "      <td>0.0</td>\n",
       "      <td>0</td>\n",
       "      <td>14.082129</td>\n",
       "      <td>0</td>\n",
       "    </tr>\n",
       "    <tr>\n",
       "      <th>7063</th>\n",
       "      <td>11.0</td>\n",
       "      <td>53.5</td>\n",
       "      <td>0.0</td>\n",
       "      <td>0</td>\n",
       "      <td>11.659588</td>\n",
       "      <td>0</td>\n",
       "    </tr>\n",
       "    <tr>\n",
       "      <th>7064</th>\n",
       "      <td>0.0</td>\n",
       "      <td>304.0</td>\n",
       "      <td>-128.0</td>\n",
       "      <td>1</td>\n",
       "      <td>61.167269</td>\n",
       "      <td>1</td>\n",
       "    </tr>\n",
       "    <tr>\n",
       "      <th>7065</th>\n",
       "      <td>10.3</td>\n",
       "      <td>60.9</td>\n",
       "      <td>0.0</td>\n",
       "      <td>0</td>\n",
       "      <td>12.879888</td>\n",
       "      <td>0</td>\n",
       "    </tr>\n",
       "    <tr>\n",
       "      <th>7066</th>\n",
       "      <td>7.9</td>\n",
       "      <td>58.2</td>\n",
       "      <td>0.0</td>\n",
       "      <td>0</td>\n",
       "      <td>20.154222</td>\n",
       "      <td>0</td>\n",
       "    </tr>\n",
       "  </tbody>\n",
       "</table>\n",
       "<p>7067 rows × 6 columns</p>\n",
       "</div>"
      ],
      "text/plain": [
       "      speed  course    rot  Anomaly  Anomaly_Score  label\n",
       "0       9.9    54.0    5.0        0      14.147968      0\n",
       "1      12.5   235.4   -6.0        0      13.533523      0\n",
       "2      10.5    54.8   -4.0        0      12.884912      0\n",
       "3       0.0   292.0 -128.0        1      60.776462      1\n",
       "4       0.0    14.0    0.0        1      49.555648      1\n",
       "...     ...     ...    ...      ...            ...    ...\n",
       "7062   11.3   233.0    0.0        0      14.082129      0\n",
       "7063   11.0    53.5    0.0        0      11.659588      0\n",
       "7064    0.0   304.0 -128.0        1      61.167269      1\n",
       "7065   10.3    60.9    0.0        0      12.879888      0\n",
       "7066    7.9    58.2    0.0        0      20.154222      0\n",
       "\n",
       "[7067 rows x 6 columns]"
      ]
     },
     "execution_count": 40,
     "metadata": {},
     "output_type": "execute_result"
    }
   ],
   "source": [
    "X_test"
   ]
  },
  {
   "cell_type": "code",
   "execution_count": 41,
   "id": "11983e5a",
   "metadata": {},
   "outputs": [
    {
     "data": {
      "text/plain": [
       "0    6201\n",
       "1     866\n",
       "Name: label, dtype: int64"
      ]
     },
     "execution_count": 41,
     "metadata": {},
     "output_type": "execute_result"
    }
   ],
   "source": [
    "X_test.label.value_counts()"
   ]
  },
  {
   "cell_type": "code",
   "execution_count": 58,
   "id": "bb6bd4ac",
   "metadata": {},
   "outputs": [],
   "source": [
    "X_test['Anomal']=0\n",
    "c=0\n",
    "for i in X_test['Anomaly_Score']:\n",
    "        if(i>0):\n",
    "            X_test.iloc[c,za]=1\n",
    "        c=c+1"
   ]
  },
  {
   "cell_type": "code",
   "execution_count": 59,
   "id": "36aa55ec",
   "metadata": {},
   "outputs": [
    {
     "data": {
      "text/html": [
       "<div>\n",
       "<style scoped>\n",
       "    .dataframe tbody tr th:only-of-type {\n",
       "        vertical-align: middle;\n",
       "    }\n",
       "\n",
       "    .dataframe tbody tr th {\n",
       "        vertical-align: top;\n",
       "    }\n",
       "\n",
       "    .dataframe thead th {\n",
       "        text-align: right;\n",
       "    }\n",
       "</style>\n",
       "<table border=\"1\" class=\"dataframe\">\n",
       "  <thead>\n",
       "    <tr style=\"text-align: right;\">\n",
       "      <th></th>\n",
       "      <th></th>\n",
       "      <th>number</th>\n",
       "    </tr>\n",
       "    <tr>\n",
       "      <th>Anomal</th>\n",
       "      <th>label</th>\n",
       "      <th></th>\n",
       "    </tr>\n",
       "  </thead>\n",
       "  <tbody>\n",
       "    <tr>\n",
       "      <th rowspan=\"2\" valign=\"top\">0</th>\n",
       "      <th>0</th>\n",
       "      <td>6201</td>\n",
       "    </tr>\n",
       "    <tr>\n",
       "      <th>1</th>\n",
       "      <td>135</td>\n",
       "    </tr>\n",
       "    <tr>\n",
       "      <th>1</th>\n",
       "      <th>1</th>\n",
       "      <td>731</td>\n",
       "    </tr>\n",
       "  </tbody>\n",
       "</table>\n",
       "</div>"
      ],
      "text/plain": [
       "              number\n",
       "Anomal label        \n",
       "0      0        6201\n",
       "       1         135\n",
       "1      1         731"
      ]
     },
     "execution_count": 59,
     "metadata": {},
     "output_type": "execute_result"
    }
   ],
   "source": [
    "(X_test[['Anomal','label']]\n",
    " .groupby(['Anomal','label'])\n",
    " .size()\n",
    " .to_frame()\n",
    " .rename(columns={0:'number'}))"
   ]
  },
  {
   "cell_type": "code",
   "execution_count": 44,
   "id": "e36dc6f6",
   "metadata": {},
   "outputs": [],
   "source": [
    "from sklearn.metrics import precision_recall_curve"
   ]
  },
  {
   "cell_type": "code",
   "execution_count": 45,
   "id": "0ab9211e",
   "metadata": {},
   "outputs": [],
   "source": [
    "precision, recall, thresholds = precision_recall_curve(X_test['label'],X_test['Anomaly_Score'])"
   ]
  },
  {
   "cell_type": "code",
   "execution_count": 46,
   "id": "7274d486",
   "metadata": {},
   "outputs": [],
   "source": [
    "\n",
    "numerator = 2 * recall * precision\n",
    "denom = recall + precision\n",
    "f1_scores = np.divide(numerator, denom, out=np.zeros_like(denom), where=(denom!=0))\n",
    "max_f1 = np.max(f1_scores)\n",
    "max_f1_thresh = thresholds[np.argmax(f1_scores)]"
   ]
  },
  {
   "cell_type": "code",
   "execution_count": 47,
   "id": "bb88f889",
   "metadata": {},
   "outputs": [
    {
     "data": {
      "text/plain": [
       "0.9161451814768461"
      ]
     },
     "execution_count": 47,
     "metadata": {},
     "output_type": "execute_result"
    }
   ],
   "source": [
    "max_f1"
   ]
  },
  {
   "cell_type": "code",
   "execution_count": 48,
   "id": "db5c9069",
   "metadata": {},
   "outputs": [
    {
     "data": {
      "text/plain": [
       "43.20296067396559"
      ]
     },
     "execution_count": 48,
     "metadata": {},
     "output_type": "execute_result"
    }
   ],
   "source": [
    "max_f1_thresh"
   ]
  },
  {
   "cell_type": "code",
   "execution_count": 49,
   "id": "7b6bca87",
   "metadata": {},
   "outputs": [
    {
     "name": "stdout",
     "output_type": "stream",
     "text": [
      "<class 'pandas.core.frame.DataFrame'>\n",
      "RangeIndex: 7067 entries, 0 to 7066\n",
      "Data columns (total 7 columns):\n",
      " #   Column         Non-Null Count  Dtype  \n",
      "---  ------         --------------  -----  \n",
      " 0   speed          7067 non-null   float64\n",
      " 1   course         7067 non-null   float64\n",
      " 2   rot            7067 non-null   float64\n",
      " 3   Anomaly        7067 non-null   int32  \n",
      " 4   Anomaly_Score  7067 non-null   float64\n",
      " 5   label          7067 non-null   int64  \n",
      " 6   Anomal         7067 non-null   int64  \n",
      "dtypes: float64(4), int32(1), int64(2)\n",
      "memory usage: 359.0 KB\n"
     ]
    }
   ],
   "source": [
    "X_test.info()"
   ]
  },
  {
   "cell_type": "code",
   "execution_count": 50,
   "id": "d634627a",
   "metadata": {},
   "outputs": [],
   "source": [
    "X_test['Anomal']=0\n",
    "c=0\n",
    "for i in X_test['Anomaly_Score']:\n",
    "        if(i>max_f1_thresh):\n",
    "            X_test.iloc[c,za]=1\n",
    "        c=c+1"
   ]
  },
  {
   "cell_type": "code",
   "execution_count": 51,
   "id": "5580fa8d",
   "metadata": {},
   "outputs": [
    {
     "data": {
      "text/html": [
       "<div>\n",
       "<style scoped>\n",
       "    .dataframe tbody tr th:only-of-type {\n",
       "        vertical-align: middle;\n",
       "    }\n",
       "\n",
       "    .dataframe tbody tr th {\n",
       "        vertical-align: top;\n",
       "    }\n",
       "\n",
       "    .dataframe thead th {\n",
       "        text-align: right;\n",
       "    }\n",
       "</style>\n",
       "<table border=\"1\" class=\"dataframe\">\n",
       "  <thead>\n",
       "    <tr style=\"text-align: right;\">\n",
       "      <th></th>\n",
       "      <th></th>\n",
       "      <th>number</th>\n",
       "    </tr>\n",
       "    <tr>\n",
       "      <th>Anomal</th>\n",
       "      <th>label</th>\n",
       "      <th></th>\n",
       "    </tr>\n",
       "  </thead>\n",
       "  <tbody>\n",
       "    <tr>\n",
       "      <th rowspan=\"2\" valign=\"top\">0</th>\n",
       "      <th>0</th>\n",
       "      <td>6201</td>\n",
       "    </tr>\n",
       "    <tr>\n",
       "      <th>1</th>\n",
       "      <td>135</td>\n",
       "    </tr>\n",
       "    <tr>\n",
       "      <th>1</th>\n",
       "      <th>1</th>\n",
       "      <td>731</td>\n",
       "    </tr>\n",
       "  </tbody>\n",
       "</table>\n",
       "</div>"
      ],
      "text/plain": [
       "              number\n",
       "Anomal label        \n",
       "0      0        6201\n",
       "       1         135\n",
       "1      1         731"
      ]
     },
     "execution_count": 51,
     "metadata": {},
     "output_type": "execute_result"
    }
   ],
   "source": [
    "(X_test[['Anomal','label']]\n",
    " .groupby(['Anomal','label'])\n",
    " .size()\n",
    " .to_frame()\n",
    " .rename(columns={0:'number'}))"
   ]
  },
  {
   "cell_type": "code",
   "execution_count": 52,
   "id": "003c189a",
   "metadata": {},
   "outputs": [],
   "source": [
    "X_valid=predict_model(lof, data = X_valid)"
   ]
  },
  {
   "cell_type": "code",
   "execution_count": 53,
   "id": "9984e3e2",
   "metadata": {},
   "outputs": [],
   "source": [
    "X_valid['label']=y_valid"
   ]
  },
  {
   "cell_type": "code",
   "execution_count": 54,
   "id": "a2cc234f",
   "metadata": {},
   "outputs": [],
   "source": [
    "X_valid['Anomal']=0\n",
    "c=0\n",
    "for i in X_valid['Anomaly_Score']:\n",
    "        if(i>max_f1_thresh):\n",
    "            X_valid.iloc[c,za]=1\n",
    "        c=c+1\n"
   ]
  },
  {
   "cell_type": "code",
   "execution_count": 55,
   "id": "1e7edb9d",
   "metadata": {},
   "outputs": [
    {
     "data": {
      "text/html": [
       "<div>\n",
       "<style scoped>\n",
       "    .dataframe tbody tr th:only-of-type {\n",
       "        vertical-align: middle;\n",
       "    }\n",
       "\n",
       "    .dataframe tbody tr th {\n",
       "        vertical-align: top;\n",
       "    }\n",
       "\n",
       "    .dataframe thead th {\n",
       "        text-align: right;\n",
       "    }\n",
       "</style>\n",
       "<table border=\"1\" class=\"dataframe\">\n",
       "  <thead>\n",
       "    <tr style=\"text-align: right;\">\n",
       "      <th></th>\n",
       "      <th></th>\n",
       "      <th>number</th>\n",
       "    </tr>\n",
       "    <tr>\n",
       "      <th>Anomal</th>\n",
       "      <th>label</th>\n",
       "      <th></th>\n",
       "    </tr>\n",
       "  </thead>\n",
       "  <tbody>\n",
       "    <tr>\n",
       "      <th rowspan=\"2\" valign=\"top\">0</th>\n",
       "      <th>0</th>\n",
       "      <td>1550</td>\n",
       "    </tr>\n",
       "    <tr>\n",
       "      <th>1</th>\n",
       "      <td>31</td>\n",
       "    </tr>\n",
       "    <tr>\n",
       "      <th rowspan=\"2\" valign=\"top\">1</th>\n",
       "      <th>0</th>\n",
       "      <td>1</td>\n",
       "    </tr>\n",
       "    <tr>\n",
       "      <th>1</th>\n",
       "      <td>184</td>\n",
       "    </tr>\n",
       "  </tbody>\n",
       "</table>\n",
       "</div>"
      ],
      "text/plain": [
       "              number\n",
       "Anomal label        \n",
       "0      0        1550\n",
       "       1          31\n",
       "1      0           1\n",
       "       1         184"
      ]
     },
     "execution_count": 55,
     "metadata": {},
     "output_type": "execute_result"
    }
   ],
   "source": [
    "(X_valid[['Anomal','label']]\n",
    " .groupby(['Anomal','label'])\n",
    " .size()\n",
    " .to_frame()\n",
    " .rename(columns={0:'number'}))"
   ]
  },
  {
   "cell_type": "code",
   "execution_count": 56,
   "id": "762e6d87",
   "metadata": {},
   "outputs": [],
   "source": [
    "import sklearn"
   ]
  },
  {
   "cell_type": "code",
   "execution_count": 57,
   "id": "4fa62deb",
   "metadata": {},
   "outputs": [
    {
     "data": {
      "text/plain": [
       "0.9199999999999999"
      ]
     },
     "execution_count": 57,
     "metadata": {},
     "output_type": "execute_result"
    }
   ],
   "source": [
    "sklearn.metrics.f1_score(X_valid['label'],X_valid['Anomal'])"
   ]
  },
  {
   "cell_type": "code",
   "execution_count": null,
   "id": "1d9b8f21",
   "metadata": {},
   "outputs": [],
   "source": []
  },
  {
   "cell_type": "code",
   "execution_count": null,
   "id": "6300e561",
   "metadata": {},
   "outputs": [],
   "source": []
  },
  {
   "cell_type": "code",
   "execution_count": null,
   "id": "7ab4bac6",
   "metadata": {},
   "outputs": [],
   "source": []
  }
 ],
 "metadata": {
  "kernelspec": {
   "display_name": "Python 3 (ipykernel)",
   "language": "python",
   "name": "python3"
  },
  "language_info": {
   "codemirror_mode": {
    "name": "ipython",
    "version": 3
   },
   "file_extension": ".py",
   "mimetype": "text/x-python",
   "name": "python",
   "nbconvert_exporter": "python",
   "pygments_lexer": "ipython3",
   "version": "3.8.13"
  }
 },
 "nbformat": 4,
 "nbformat_minor": 5
}
